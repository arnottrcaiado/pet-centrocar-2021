{
  "nbformat": 4,
  "nbformat_minor": 5,
  "metadata": {
    "kernelspec": {
      "display_name": "Python 3 (ipykernel)",
      "language": "python",
      "name": "python3"
    },
    "language_info": {
      "codemirror_mode": {
        "name": "ipython",
        "version": 3
      },
      "file_extension": ".py",
      "mimetype": "text/x-python",
      "name": "python",
      "nbconvert_exporter": "python",
      "pygments_lexer": "ipython3",
      "version": "3.9.7"
    },
    "colab": {
      "name": "TratandoArquivos.ipynb",
      "provenance": [],
      "collapsed_sections": [],
      "include_colab_link": true
    }
  },
  "cells": [
    {
      "cell_type": "markdown",
      "metadata": {
        "id": "view-in-github",
        "colab_type": "text"
      },
      "source": [
        "<a href=\"https://colab.research.google.com/github/arnottrcaiado/pet-centrocar-2021/blob/main/TratandoArquivosOsXls.ipynb\" target=\"_parent\"><img src=\"https://colab.research.google.com/assets/colab-badge.svg\" alt=\"Open In Colab\"/></a>"
      ]
    },
    {
      "cell_type": "markdown",
      "metadata": {
        "id": "Z0GVnN6YAHeX"
      },
      "source": [
        "# Projeto Pet Centrocar\n",
        "# Tratamento de dados de OS\n",
        "# Converte arquivo de OS XLS para CSV\n",
        "# Autor: Ademir Monteiro"
      ],
      "id": "Z0GVnN6YAHeX"
    },
    {
      "cell_type": "code",
      "metadata": {
        "id": "7cd486c3"
      },
      "source": [
        "def funcao( linha ):\n",
        "\n",
        "  os = ''\n",
        "  status = '' \n",
        "  coi = '' \n",
        "  dtFatur = '' \n",
        "  prevEntre = '' \n",
        "  cliente = '' \n",
        "  consultor = '' \n",
        "  placa = '' \n",
        "  veiculo = '' \n",
        "  usuario = '' \n",
        "  total = ''\n",
        "  nLinha = [linha]\n",
        "\n",
        "  for i in range(len(nLinha)):\n",
        "    os = nLinha[i][0:7]\n",
        "    status = nLinha[i][10:15]\n",
        "    coi = nLinha[i][17:21]\n",
        "    dtFatur = nLinha[i][22:32]\n",
        "    prevEntre = nLinha[i][33:43]\n",
        "    cliente = nLinha[i][45:52] # sem pegar o nome, apenas o codigo do cliente\n",
        "    consultor = nLinha[i][66:92]\n",
        "    placa = nLinha[i][93:101]\n",
        "    veiculo = nLinha[i][102:111]\n",
        "    usuario = nLinha[i][114:117]\n",
        "    total = nLinha[i][122:-1]\n",
        "\n",
        "  return os, status, coi, dtFatur, prevEntre, cliente, consultor, placa, veiculo, usuario, total"
      ],
      "id": "7cd486c3",
      "execution_count": null,
      "outputs": []
    },
    {
      "cell_type": "code",
      "metadata": {
        "id": "407d0aa6"
      },
      "source": [
        "import pandas as pd\n",
        "import io"
      ],
      "id": "407d0aa6",
      "execution_count": null,
      "outputs": []
    },
    {
      "cell_type": "code",
      "metadata": {
        "id": "4e14b9ea"
      },
      "source": [
        "# python 3\n",
        "import sys\n",
        "\n",
        "arqOs = sys.argv[1]\n",
        "#arqIsc = sys.argv[1]\n",
        "saida = sys.argv[2]"
      ],
      "id": "4e14b9ea",
      "execution_count": null,
      "outputs": []
    },
    {
      "cell_type": "code",
      "metadata": {
        "id": "035ed29c"
      },
      "source": [
        "df = pd.read_excel(arqOs)"
      ],
      "id": "035ed29c",
      "execution_count": null,
      "outputs": []
    },
    {
      "cell_type": "code",
      "metadata": {
        "id": "a0eb3094"
      },
      "source": [
        "df.rename(columns={'====================================================================================================================================': 'linha'}, inplace = True)"
      ],
      "id": "a0eb3094",
      "execution_count": null,
      "outputs": []
    },
    {
      "cell_type": "markdown",
      "metadata": {
        "id": "Ka5i6EliAA_g"
      },
      "source": [
        ""
      ],
      "id": "Ka5i6EliAA_g"
    },
    {
      "cell_type": "code",
      "metadata": {
        "id": "6ccd88e6"
      },
      "source": [
        "arrayLinha=[]\n",
        "for i in range( len(df)) :\n",
        "  l = df.loc[i,'linha']\n",
        "  if l[0:2] == '1-':\n",
        "    arrayLinha.append( l )"
      ],
      "id": "6ccd88e6",
      "execution_count": null,
      "outputs": []
    },
    {
      "cell_type": "code",
      "metadata": {
        "id": "ed3f9c04"
      },
      "source": [
        "colunas =['OS','Status','COI','Dt.Fatur','Prev.Entre','Cliente', 'Consultor', 'Placa', 'Veiculo', 'Usuario', 'Total']\n",
        "dados =[]"
      ],
      "id": "ed3f9c04",
      "execution_count": null,
      "outputs": []
    },
    {
      "cell_type": "code",
      "metadata": {
        "id": "850cb856"
      },
      "source": [
        "for i in arrayLinha:\n",
        "  dados.append(funcao(i))"
      ],
      "id": "850cb856",
      "execution_count": null,
      "outputs": []
    },
    {
      "cell_type": "code",
      "metadata": {
        "id": "8aebd0be"
      },
      "source": [
        "df = pd.DataFrame(dados, columns = colunas)"
      ],
      "id": "8aebd0be",
      "execution_count": null,
      "outputs": []
    },
    {
      "cell_type": "code",
      "metadata": {
        "id": "8702a36b"
      },
      "source": [
        "df.to_csv(saida, sep=';', index=False)"
      ],
      "id": "8702a36b",
      "execution_count": null,
      "outputs": []
    }
  ]
}