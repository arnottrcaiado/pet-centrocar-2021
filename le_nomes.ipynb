{
  "nbformat": 4,
  "nbformat_minor": 0,
  "metadata": {
    "colab": {
      "name": "le_nomes.ipynb",
      "provenance": [],
      "collapsed_sections": [],
      "authorship_tag": "ABX9TyOsdzAx5M7CGxWKiomIs7UM",
      "include_colab_link": true
    },
    "kernelspec": {
      "name": "python3",
      "display_name": "Python 3"
    },
    "language_info": {
      "name": "python"
    }
  },
  "cells": [
    {
      "cell_type": "markdown",
      "metadata": {
        "id": "view-in-github",
        "colab_type": "text"
      },
      "source": [
        "<a href=\"https://colab.research.google.com/github/arnottrcaiado/pet-centrocar-2021/blob/main/le_nomes.ipynb\" target=\"_parent\"><img src=\"https://colab.research.google.com/assets/colab-badge.svg\" alt=\"Open In Colab\"/></a>"
      ]
    },
    {
      "cell_type": "code",
      "metadata": {
        "id": "Qp5gZije3Kfb"
      },
      "source": [
        "import pandas as pd"
      ],
      "execution_count": null,
      "outputs": []
    },
    {
      "cell_type": "code",
      "metadata": {
        "id": "s_eYl8Bg2t-F"
      },
      "source": [
        "url = 'https://raw.githubusercontent.com/arnottrcaiado/pet-centrocar-2021/main/grupos.csv'\n",
        "df=pd.read_csv( url, sep=',' )"
      ],
      "execution_count": null,
      "outputs": []
    },
    {
      "cell_type": "code",
      "metadata": {
        "id": "h6lQ2rai5RPT"
      },
      "source": [
        "len(df)"
      ],
      "execution_count": null,
      "outputs": []
    },
    {
      "cell_type": "code",
      "metadata": {
        "id": "jtgfmrqP35au"
      },
      "source": [
        "df.head(10)"
      ],
      "execution_count": null,
      "outputs": []
    },
    {
      "cell_type": "code",
      "metadata": {
        "id": "GXBU2fcH3-fK"
      },
      "source": [
        "# funcao para procurar nomes principais, pelos indices\n",
        "def procNome( nome ):\n",
        "    a = df.loc[df['name']== nome]\n",
        "    if len(a) > 0 :\n",
        "      nom = a['name'].to_list()\n",
        "      sex = a['classification'].to_list()\n",
        "      print(\"Localizado :\"+str(nom[0])+\" Genero:\"+str(sex[0]) )\n",
        "    else:\n",
        "      print(\"Não Localizado :\" + nome )"
      ],
      "execution_count": null,
      "outputs": []
    },
    {
      "cell_type": "code",
      "metadata": {
        "id": "SHj6nmwW4FTJ"
      },
      "source": [
        "# funcao para procurar sequencialmente nomes alternativos\n",
        "def procNomes( nome ) :\n",
        "    for i in range(len(df)) :\n",
        "      nam = df['names'][i].split(sep='|')\n",
        "      for j in range(len(nam)):\n",
        "        if nome == nam[j] :\n",
        "            sex = df['classification'][i]\n",
        "            print(\"Localizado :\"+str(nam[j])+\" Genero:\"+str(sex) )"
      ],
      "execution_count": null,
      "outputs": []
    },
    {
      "cell_type": "code",
      "metadata": {
        "colab": {
          "base_uri": "https://localhost:8080/"
        },
        "id": "I7wzbhA74jRZ",
        "outputId": "3a90ab5b-9953-4e7a-8e49-d48950ca36fd"
      },
      "source": [
        "procNomes(\"AARON\")"
      ],
      "execution_count": null,
      "outputs": [
        {
          "output_type": "stream",
          "name": "stdout",
          "text": [
            "Localizado :AARON Genero:M\n"
          ]
        }
      ]
    },
    {
      "cell_type": "code",
      "metadata": {
        "colab": {
          "base_uri": "https://localhost:8080/"
        },
        "id": "DoMEvBt7AkvV",
        "outputId": "731032c6-aed3-4578-8873-9fceb1304280"
      },
      "source": [
        "nome = \"maria jose\"\n",
        "nome = nome.upper()\n",
        "n = nome.split()\n",
        "procNome( n[0])\n"
      ],
      "execution_count": null,
      "outputs": [
        {
          "output_type": "stream",
          "name": "stdout",
          "text": [
            "Localizado :MARIA Genero:F\n"
          ]
        }
      ]
    },
    {
      "cell_type": "code",
      "metadata": {
        "id": "8zoN1UTS507Z"
      },
      "source": [
        ""
      ],
      "execution_count": null,
      "outputs": []
    },
    {
      "cell_type": "code",
      "metadata": {
        "id": "MdBKTAhko8NO"
      },
      "source": [
        "# codigo para o pythonanyqhere"
      ],
      "execution_count": null,
      "outputs": []
    },
    {
      "cell_type": "code",
      "metadata": {
        "id": "ktMKAsH_o4RW"
      },
      "source": [
        "#\n",
        "# FACULDADE SENAC\n",
        "# Extensão Tecnológica\n",
        "# Projeto PET CENTROCAR\n",
        "# Orientador - Prof. Arnott Ramos Caiado\n",
        "#\n",
        "\n",
        "from flask import Flask, json, request\n",
        "import pandas as pd\n",
        "\n",
        "import sys\n",
        "sys.path.insert(0,'/home/centrocarPet')\n",
        "import pet_headers as keys                  # chaves da api e segurança\n",
        "\n",
        "arquivo = '/home/centrocarPet/mysite/dados/grupos.csv'  # arquivo com nomes\n",
        "\n",
        "df = pd.read_csv( arquivo )\n",
        "\n",
        "\n",
        "app = Flask(__name__)\n",
        "\n",
        "@app.route('/')\n",
        "def hello_world():\n",
        "    return 'Mensagem aqui'\n",
        "\n",
        "#\n",
        "# endpoint para busca de nomes e localização do sexo\n",
        "# https://ceontrocarPet;pythonanywhere.com/buscasexo?nome=PAULO\n",
        "#\n",
        "@app.route('/buscasexo', methods=['GET'] )\n",
        "def procNome( ):\n",
        "    nome = request.args.get('nome') # obtem parametro da url . ?nome=JOSE\n",
        "    if nome != None :\n",
        "        nome = nome.upper()\n",
        "        busca = df.loc[df['name']== nome]\n",
        "        if len(busca) > 0 :\n",
        "            nomeEncontrado = busca['name'].to_list()\n",
        "            sexEncontrado = busca['classification'].to_list()\n",
        "            return json.dumps({\"Nome\": nomeEncontrado[0], \"Sexo\" : sexEncontrado[0] })\n",
        "        else:\n",
        "            nome, sexo = procNomes( nome )\n",
        "            return json.dumps({\"Nome\" : nome, \"Sexo\": sexo })\n",
        "\n",
        "    else : # não foi encontrado parâmetro na linha url - verificar header e parametros\n",
        "        chave = request.headers.get('secret-key')\n",
        "        if chave == keys.key_header_nome : # chave de autenticação para a API\n",
        "            nome = request.form.get('nome')\n",
        "            if nome != None :\n",
        "                nome = nome.upper()\n",
        "                busca = df.loc[df['name']== nome]\n",
        "                if len(busca) > 0 :\n",
        "                    nomeEncontrado = busca['name'].to_list()\n",
        "                    sexEncontrado = busca['classification'].to_list()\n",
        "                    return json.dumps({\"Nome\": nomeEncontrado[0], \"Sexo\" : sexEncontrado[0] })\n",
        "                else:\n",
        "                    nome, sexo = procNomes( nome )\n",
        "                    return json.dumps({\"Nome\" : nome, \"Sexo\": sexo })\n",
        "            else :\n",
        "                return json.dumps({\"Nome\" : \"**incompleto**\", \"Sexo\": \"**Inexistente**\"})\n",
        "        return json.dumps({\"Erro\" : \"**autentic**\" })\n",
        "\n",
        "# -------------------------------------------------------------------------------------------\n",
        "# funcao para percorrer o dataframe procurando os nomes alterativos\n",
        "# chamada quando o nome principal, indexado, não é localizado\n",
        "def procNomes( nome ) :\n",
        "    for i in range(len(df)) :\n",
        "      nam = df['names'][i].split(sep='|')\n",
        "      for j in range(len(nam)):\n",
        "        if nome == nam[j] :\n",
        "            sex = df['classification'][i]\n",
        "            return str(nam[j]), str(sex)\n",
        "    return str(nome), \"**Inexistente**\""
      ],
      "execution_count": null,
      "outputs": []
    }
  ]
}